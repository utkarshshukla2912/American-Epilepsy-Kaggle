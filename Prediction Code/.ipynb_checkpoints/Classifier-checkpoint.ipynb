{
 "cells": [
  {
   "cell_type": "code",
   "execution_count": 58,
   "metadata": {
    "collapsed": true
   },
   "outputs": [],
   "source": [
    "from sklearn.metrics import roc_auc_score,roc_curve,recall_score,classification_report\n",
    "from sklearn.ensemble import RandomForestClassifier, AdaBoostClassifier\n",
    "from sklearn.metrics import confusion_matrix,precision_recall_curve,auc\n",
    "from sklearn.linear_model import LogisticRegression\n",
    "from sklearn.model_selection import train_test_split\n",
    "from sklearn.decomposition import IncrementalPCA\n",
    "from sklearn.preprocessing import StandardScaler\n",
    "from sklearn.neural_network import MLPClassifier\n",
    "from matplotlib.colors import ListedColormap\n",
    "from sklearn.svm import LinearSVC\n",
    "import matplotlib.pyplot as plt\n",
    "from sklearn.svm import SVC\n",
    "import pandas as pd\n",
    "import numpy as np\n",
    "import itertools"
   ]
  },
  {
   "cell_type": "code",
   "execution_count": 59,
   "metadata": {
    "collapsed": true
   },
   "outputs": [],
   "source": [
    "train_df = pd.read_csv('../../dataset/p2features.csv')\n",
    "#print len(list(train_df))\n",
    "#print 'Prediction Column: ',list(set(train_df)-set(test_df))[0]"
   ]
  },
  {
   "cell_type": "code",
   "execution_count": 60,
   "metadata": {
    "collapsed": true
   },
   "outputs": [],
   "source": [
    "X = train_df.iloc[:,0:len(list(train_df))-1]\n",
    "Y = list(train_df.iloc[:,-1])"
   ]
  },
  {
   "cell_type": "code",
   "execution_count": 61,
   "metadata": {
    "collapsed": true
   },
   "outputs": [],
   "source": [
    "for i in range (0,len(Y)):\n",
    "    if Y[i] == 1:\n",
    "        Y[i] = 0\n",
    "    else:\n",
    "        Y[i] = 1"
   ]
  },
  {
   "cell_type": "code",
   "execution_count": 62,
   "metadata": {
    "collapsed": true
   },
   "outputs": [],
   "source": [
    "#sm = SMOTETomek(random_state=42)\n",
    "#X_res, y_res = sm.fit_sample(X, y)\n",
    "X = StandardScaler().fit_transform(X)\n",
    "#pca = IncrementalPCA(n_components=2)\n",
    "#X = pca.fit_transform(X)"
   ]
  },
  {
   "cell_type": "code",
   "execution_count": 63,
   "metadata": {
    "collapsed": true
   },
   "outputs": [],
   "source": [
    "X_train, X_test, y_train, y_test = train_test_split(X, Y, test_size=0.2, random_state=42)\n",
    "\n",
    "names = [\n",
    "          \"LinearSVM\",\"LogisticRegression\",\"MLPClassifier\"\n",
    "        ]\n",
    "classifiers = [\n",
    "               LinearSVC(random_state=0),LogisticRegression(),MLPClassifier(),\n",
    "              ]"
   ]
  },
  {
   "cell_type": "code",
   "execution_count": 64,
   "metadata": {
    "collapsed": true
   },
   "outputs": [],
   "source": [
    "def plot_confusion_matrix(cm, classes,\n",
    "                          normalize=False,\n",
    "                          title='Confusion matrix',\n",
    "                          cmap=plt.cm.Blues):\n",
    "    \"\"\"\n",
    "    This function prints and plots the confusion matrix.\n",
    "    Normalization can be applied by setting `normalize=True`.\n",
    "    \"\"\"\n",
    "    plt.imshow(cm, interpolation='nearest', cmap=cmap)\n",
    "    plt.title(title)\n",
    "    plt.colorbar()\n",
    "    tick_marks = np.arange(len(classes))\n",
    "    plt.xticks(tick_marks, classes, rotation=0)\n",
    "    plt.yticks(tick_marks, classes)\n",
    "\n",
    "    if normalize:\n",
    "        cm = cm.astype('float') / cm.sum(axis=1)[:, np.newaxis]\n",
    "        #print(\"Normalized confusion matrix\")\n",
    "    else:\n",
    "        1#print('Confusion matrix, without normalization')\n",
    "\n",
    "    #print(cm)\n",
    "\n",
    "    thresh = cm.max() / 2.\n",
    "    for i, j in itertools.product(range(cm.shape[0]), range(cm.shape[1])):\n",
    "        plt.text(j, i, cm[i, j],\n",
    "                 horizontalalignment=\"center\",\n",
    "                 color=\"white\" if cm[i, j] > thresh else \"black\")\n",
    "\n",
    "    plt.tight_layout()\n",
    "    plt.ylabel('True label')\n",
    "    plt.xlabel('Predicted label')\n"
   ]
  },
  {
   "cell_type": "code",
   "execution_count": 65,
   "metadata": {
    "scrolled": false
   },
   "outputs": [
    {
     "name": "stdout",
     "output_type": "stream",
     "text": [
      "Calculating for model:  LinearSVM\n",
      "LinearSVM Score: 0.75\n",
      "LinearSVM Recall metric in the testing dataset:  0.8\n"
     ]
    },
    {
     "data": {
      "image/png": "[encoded data removed]",
      "text/plain": [
       "<matplotlib.figure.Figure at 0x11392cd50>"
      ]
     },
     "metadata": {},
     "output_type": "display_data"
    },
    {
     "name": "stdout",
     "output_type": "stream",
     "text": [
      "LinearSVM Precision:  0.666666666667\n",
      "LinearSVM Recall:  0.8\n",
      "LinearSVM F1 Score:  0.727272727273 \n",
      "\n",
      "\n",
      "Calculating for model:  LogisticRegression\n",
      "LogisticRegression Score: 0.75\n",
      "LogisticRegression Recall metric in the testing dataset:  0.8\n"
     ]
    },
    {
     "data": {
      "image/png": "[encoded data removed]",
      "text/plain": [
       "<matplotlib.figure.Figure at 0x11437fc50>"
      ]
     },
     "metadata": {},
     "output_type": "display_data"
    },
    {
     "name": "stdout",
     "output_type": "stream",
     "text": [
      "LogisticRegression Precision:  0.666666666667\n",
      "LogisticRegression Recall:  0.8\n",
      "LogisticRegression F1 Score:  0.727272727273 \n",
      "\n",
      "\n",
      "Calculating for model:  MLPClassifier\n",
      "MLPClassifier Score: 0.75\n",
      "MLPClassifier Recall metric in the testing dataset:  0.8\n"
     ]
    },
    {
     "data": {
      "image/png": "[encoded data removed]",
      "text/plain": [
       "<matplotlib.figure.Figure at 0x113e6fa90>"
      ]
     },
     "metadata": {},
     "output_type": "display_data"
    },
    {
     "name": "stdout",
     "output_type": "stream",
     "text": [
      "MLPClassifier Precision:  0.666666666667\n",
      "MLPClassifier Recall:  0.8\n",
      "MLPClassifier F1 Score:  0.727272727273 \n",
      "\n",
      "\n"
     ]
    }
   ],
   "source": [
    "for name, clf in zip(names, classifiers):\n",
    "        \n",
    "        print \"Calculating for model: \",name\n",
    "        clf.fit(X_train, y_train)\n",
    "        #filename = name+'.sav'\n",
    "        #pickle.dump(clf, open(filename, 'wb'))\n",
    "        score = clf.score(X_test, y_test)\n",
    "        print name+' Score:',score\n",
    "        prediction1 = clf.predict(X_test)\n",
    "\n",
    "\n",
    "\n",
    "        # Compute confusion matrix\n",
    "        cnf_matrix = confusion_matrix(y_test,prediction1)\n",
    "        np.set_printoptions(precision=2)\n",
    "\n",
    "        print name+\" Recall metric in the testing dataset: \", np.true_divide(cnf_matrix[1,1],(cnf_matrix[1,0]+cnf_matrix[1,1]))\n",
    "\n",
    "        # Plot non-normalized confusion matrix\n",
    "        class_names = [0,1]\n",
    "        plt.figure()\n",
    "        plot_confusion_matrix(cnf_matrix\n",
    "                      , classes=class_names\n",
    "                      , title='Confusion matrix')\n",
    "        plt.show()\n",
    "\n",
    "\n",
    "        print name+\" Precision: \", np.true_divide(cnf_matrix[1,1],(cnf_matrix[0,1]+cnf_matrix[1,1]))\n",
    "\n",
    "        recall=np.true_divide(cnf_matrix[1,1],(cnf_matrix[1,0]+cnf_matrix[1,1]))\n",
    "        print name+\" Recall: \", recall\n",
    "        precision=np.true_divide(cnf_matrix[1,1],(cnf_matrix[0,1]+cnf_matrix[1,1]))\n",
    "        f1score=2*np.true_divide(precision*recall,(precision+recall))\n",
    "\n",
    "        print name+\" F1 Score: \", f1score,\"\\n\\n\""
   ]
  },
  {
   "cell_type": "code",
   "execution_count": null,
   "metadata": {
    "collapsed": true
   },
   "outputs": [],
   "source": []
  },
  {
   "cell_type": "code",
   "execution_count": null,
   "metadata": {
    "collapsed": true
   },
   "outputs": [],
   "source": []
  }
 ],
 "metadata": {
  "kernelspec": {
   "display_name": "Python 2",
   "language": "python",
   "name": "python2"
  },
  "language_info": {
   "codemirror_mode": {
    "name": "ipython",
    "version": 2
   },
   "file_extension": ".py",
   "mimetype": "text/x-python",
   "name": "python",
   "nbconvert_exporter": "python",
   "pygments_lexer": "ipython2",
   "version": "2.7.13"
  }
 },
 "nbformat": 4,
 "nbformat_minor": 2
}
