{
 "cells": [
  {
   "cell_type": "code",
   "execution_count": 112,
   "metadata": {
    "collapsed": true
   },
   "outputs": [],
   "source": [
    "import pandas as pd\n",
    "import numpy as np\n",
    "from sklearn.decomposition import IncrementalPCA\n",
    "from sklearn.tree import DecisionTreeClassifier\n",
    "from sklearn.linear_model import LogisticRegression\n",
    "from sklearn.model_selection import train_test_split\n",
    "from sklearn.preprocessing import StandardScaler\n",
    "from sklearn.neural_network import MLPClassifier\n",
    "from sklearn.neighbors import KNeighborsClassifier\n",
    "from sklearn.svm import SVC\n",
    "from sklearn.svm import LinearSVC\n",
    "from sklearn.ensemble import GradientBoostingClassifier\n",
    "from sklearn.gaussian_process import GaussianProcessClassifier\n",
    "from sklearn.gaussian_process.kernels import RBF\n",
    "from sklearn.ensemble import RandomForestClassifier, AdaBoostClassifier\n",
    "from sklearn.naive_bayes import GaussianNB\n",
    "from sklearn.discriminant_analysis import QuadraticDiscriminantAnalysis\n",
    "from matplotlib.colors import ListedColormap\n",
    "import matplotlib.pyplot as plt\n",
    "from sklearn.metrics import confusion_matrix,precision_recall_curve,auc\n",
    "from sklearn.metrics import roc_auc_score,roc_curve,recall_score,classification_report\n",
    "import itertools\n",
    "from imblearn.over_sampling import SMOTE\n",
    "from imblearn.combine import SMOTEENN, SMOTETomek\n",
    "import pickle\n",
    "from imblearn.over_sampling import SMOTE\n",
    "from imblearn.combine import SMOTEENN, SMOTETomek\n",
    "from collections import Counter"
   ]
  },
  {
   "cell_type": "code",
   "execution_count": 113,
   "metadata": {
    "collapsed": true
   },
   "outputs": [],
   "source": [
    "train_df = pd.read_csv('dataset/d2features.csv')\n",
    "#print len(list(train_df))\n",
    "#print 'Prediction Column: ',list(set(train_df)-set(test_df))[0]"
   ]
  },
  {
   "cell_type": "code",
   "execution_count": 114,
   "metadata": {
    "collapsed": true
   },
   "outputs": [],
   "source": [
    "X = train_df.iloc[:,0:len(list(train_df))-1]\n",
    "Y = list(train_df.iloc[:,-1])"
   ]
  },
  {
   "cell_type": "code",
   "execution_count": 115,
   "metadata": {
    "collapsed": true
   },
   "outputs": [],
   "source": [
    "for i in range (0,len(Y)):\n",
    "    if Y[i] == 1:\n",
    "        Y[i] = 0\n",
    "    else:\n",
    "        Y[i] = 1"
   ]
  },
  {
   "cell_type": "code",
   "execution_count": 116,
   "metadata": {
    "collapsed": true
   },
   "outputs": [],
   "source": [
    "#sm = SMOTETomek(random_state=42)\n",
    "#X_res, y_res = sm.fit_sample(X, y)\n",
    "X = StandardScaler().fit_transform(X)\n",
    "#pca = IncrementalPCA(n_components=5)\n",
    "#X = pca.fit_transform(X)"
   ]
  },
  {
   "cell_type": "code",
   "execution_count": 117,
   "metadata": {
    "collapsed": true
   },
   "outputs": [],
   "source": [
    "X_train, X_test, y_train, y_test = train_test_split(X, Y, test_size=0.2, random_state=42)\n",
    "\n",
    "names = [\n",
    "          \"LinearSVM\",\"LogisticRegression\",\"MLPClassifier\",\"RandomForestClassifier\",\"AdaBoostClassifier\"\n",
    "        ]\n",
    "classifiers = [\n",
    "               LinearSVC(random_state=0),LogisticRegression(),MLPClassifier(),RandomForestClassifier(),\n",
    "               AdaBoostClassifier()\n",
    "              ]"
   ]
  },
  {
   "cell_type": "code",
   "execution_count": 118,
   "metadata": {
    "collapsed": true
   },
   "outputs": [],
   "source": [
    "def plot_confusion_matrix(cm, classes,\n",
    "                          normalize=False,\n",
    "                          title='Confusion matrix',\n",
    "                          cmap=plt.cm.Blues):\n",
    "    \"\"\"\n",
    "    This function prints and plots the confusion matrix.\n",
    "    Normalization can be applied by setting `normalize=True`.\n",
    "    \"\"\"\n",
    "    plt.imshow(cm, interpolation='nearest', cmap=cmap)\n",
    "    plt.title(title)\n",
    "    plt.colorbar()\n",
    "    tick_marks = np.arange(len(classes))\n",
    "    plt.xticks(tick_marks, classes, rotation=0)\n",
    "    plt.yticks(tick_marks, classes)\n",
    "\n",
    "    if normalize:\n",
    "        cm = cm.astype('float') / cm.sum(axis=1)[:, np.newaxis]\n",
    "        #print(\"Normalized confusion matrix\")\n",
    "    else:\n",
    "        1#print('Confusion matrix, without normalization')\n",
    "\n",
    "    #print(cm)\n",
    "\n",
    "    thresh = cm.max() / 2.\n",
    "    for i, j in itertools.product(range(cm.shape[0]), range(cm.shape[1])):\n",
    "        plt.text(j, i, cm[i, j],\n",
    "                 horizontalalignment=\"center\",\n",
    "                 color=\"white\" if cm[i, j] > thresh else \"black\")\n",
    "\n",
    "    plt.tight_layout()\n",
    "    plt.ylabel('True label')\n",
    "    plt.xlabel('Predicted label')\n"
   ]
  },
  {
   "cell_type": "code",
   "execution_count": 119,
   "metadata": {
    "scrolled": false
   },
   "outputs": [
    {
     "name": "stdout",
     "output_type": "stream",
     "text": [
      "Calculating for model:  LinearSVM\n",
      "LinearSVM Score: 0.70636550308\n",
      "LinearSVM Recall metric in the testing dataset:  0.648648648649\n"
     ]
    },
    {
     "data": {
      "image/png": "[encoded data removed]",
      "text/plain": [
       "<matplotlib.figure.Figure at 0x10a6e0b90>"
      ]
     },
     "metadata": {},
     "output_type": "display_data"
    },
    {
     "name": "stdout",
     "output_type": "stream",
     "text": [
      "LinearSVM Precision:  0.155844155844\n",
      "LinearSVM Recall:  0.648648648649\n",
      "LinearSVM F1 Score:  0.251308900524 \n",
      "\n",
      "\n",
      "Calculating for model:  LogisticRegression\n",
      "LogisticRegression Score: 0.700205338809\n",
      "LogisticRegression Recall metric in the testing dataset:  0.675675675676\n"
     ]
    },
    {
     "data": {
      "image/png": "[encoded data removed]",
      "text/plain": [
       "<matplotlib.figure.Figure at 0x102cb6650>"
      ]
     },
     "metadata": {},
     "output_type": "display_data"
    },
    {
     "name": "stdout",
     "output_type": "stream",
     "text": [
      "LogisticRegression Precision:  0.157232704403\n",
      "LogisticRegression Recall:  0.675675675676\n",
      "LogisticRegression F1 Score:  0.255102040816 \n",
      "\n",
      "\n",
      "Calculating for model:  MLPClassifier\n",
      "MLPClassifier Score: 0.915811088296\n",
      "MLPClassifier Recall metric in the testing dataset:  0.405405405405\n"
     ]
    },
    {
     "data": {
      "image/png": "[encoded data removed]",
      "text/plain": [
       "<matplotlib.figure.Figure at 0x1099abc90>"
      ]
     },
     "metadata": {},
     "output_type": "display_data"
    },
    {
     "name": "stdout",
     "output_type": "stream",
     "text": [
      "MLPClassifier Precision:  0.441176470588\n",
      "MLPClassifier Recall:  0.405405405405\n",
      "MLPClassifier F1 Score:  0.422535211268 \n",
      "\n",
      "\n",
      "Calculating for model:  RandomForestClassifier\n",
      "RandomForestClassifier Score: 0.917864476386\n",
      "RandomForestClassifier Recall metric in the testing dataset:  0.0540540540541\n"
     ]
    },
    {
     "data": {
      "image/png": "[encoded data removed]",
      "text/plain": [
       "<matplotlib.figure.Figure at 0x1098a9150>"
      ]
     },
     "metadata": {},
     "output_type": "display_data"
    },
    {
     "name": "stdout",
     "output_type": "stream",
     "text": [
      "RandomForestClassifier Precision:  0.285714285714\n",
      "RandomForestClassifier Recall:  0.0540540540541\n",
      "RandomForestClassifier F1 Score:  0.0909090909091 \n",
      "\n",
      "\n",
      "Calculating for model:  AdaBoostClassifier\n",
      "AdaBoostClassifier Score: 0.907597535934\n",
      "AdaBoostClassifier Recall metric in the testing dataset:  0.0540540540541\n"
     ]
    },
    {
     "data": {
      "image/png": "[encoded data removed]",
      "text/plain": [
       "<matplotlib.figure.Figure at 0x109737750>"
      ]
     },
     "metadata": {},
     "output_type": "display_data"
    },
    {
     "name": "stdout",
     "output_type": "stream",
     "text": [
      "AdaBoostClassifier Precision:  0.166666666667\n",
      "AdaBoostClassifier Recall:  0.0540540540541\n",
      "AdaBoostClassifier F1 Score:  0.0816326530612 \n",
      "\n",
      "\n"
     ]
    }
   ],
   "source": [
    "for name, clf in zip(names, classifiers):\n",
    "        \n",
    "        print \"Calculating for model: \",name\n",
    "        clf.fit(X_train, y_train)\n",
    "        #filename = name+'.sav'\n",
    "        #pickle.dump(clf, open(filename, 'wb'))\n",
    "        score = clf.score(X_test, y_test)\n",
    "        print name+' Score:',score\n",
    "        prediction1 = clf.predict(X_test)\n",
    "\n",
    "\n",
    "\n",
    "        # Compute confusion matrix\n",
    "        cnf_matrix = confusion_matrix(y_test,prediction1)\n",
    "        np.set_printoptions(precision=2)\n",
    "\n",
    "        print name+\" Recall metric in the testing dataset: \", np.true_divide(cnf_matrix[1,1],(cnf_matrix[1,0]+cnf_matrix[1,1]))\n",
    "\n",
    "        # Plot non-normalized confusion matrix\n",
    "        class_names = [0,1]\n",
    "        plt.figure()\n",
    "        plot_confusion_matrix(cnf_matrix\n",
    "                      , classes=class_names\n",
    "                      , title='Confusion matrix')\n",
    "        plt.show()\n",
    "\n",
    "\n",
    "        print name+\" Precision: \", np.true_divide(cnf_matrix[1,1],(cnf_matrix[0,1]+cnf_matrix[1,1]))\n",
    "\n",
    "        recall=np.true_divide(cnf_matrix[1,1],(cnf_matrix[1,0]+cnf_matrix[1,1]))\n",
    "        print name+\" Recall: \", recall\n",
    "        precision=np.true_divide(cnf_matrix[1,1],(cnf_matrix[0,1]+cnf_matrix[1,1]))\n",
    "        f1score=2*np.true_divide(precision*recall,(precision+recall))\n",
    "\n",
    "        print name+\" F1 Score: \", f1score,\"\\n\\n\""
   ]
  },
  {
   "cell_type": "code",
   "execution_count": null,
   "metadata": {
    "collapsed": true
   },
   "outputs": [],
   "source": []
  },
  {
   "cell_type": "code",
   "execution_count": null,
   "metadata": {
    "collapsed": true
   },
   "outputs": [],
   "source": []
  }
 ],
 "metadata": {
  "kernelspec": {
   "display_name": "Python 2",
   "language": "python",
   "name": "python2"
  },
  "language_info": {
   "codemirror_mode": {
    "name": "ipython",
    "version": 2
   },
   "file_extension": ".py",
   "mimetype": "text/x-python",
   "name": "python",
   "nbconvert_exporter": "python",
   "pygments_lexer": "ipython2",
   "version": "2.7.13"
  }
 },
 "nbformat": 4,
 "nbformat_minor": 2
}
