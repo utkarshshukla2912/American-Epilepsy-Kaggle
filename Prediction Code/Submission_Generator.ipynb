{
 "cells": [
  {
   "cell_type": "code",
   "execution_count": 1,
   "metadata": {
    "collapsed": true
   },
   "outputs": [],
   "source": [
    "import numpy as np\n",
    "import pandas as pd\n",
    "from sklearn.svm import LinearSVC\n",
    "from sklearn.utils import shuffle\n",
    "from sklearn.neural_network import MLPClassifier\n",
    "from sklearn.decomposition import IncrementalPCA\n",
    "from sklearn.linear_model import LogisticRegression\n",
    "from sklearn.preprocessing import StandardScaler\n",
    "from sklearn.ensemble import RandomForestClassifier, AdaBoostClassifier"
   ]
  },
  {
   "cell_type": "code",
   "execution_count": 2,
   "metadata": {
    "collapsed": true
   },
   "outputs": [],
   "source": [
    "train_files = ['d1features.csv','d2features.csv','d3features.csv','d4features.csv','d5features.csv']\n",
    "\n",
    "test_files =  ['test_d1features.csv','test_d2features.csv','test_d3features.csv','test_d4features.csv',\n",
    "              'test_d5features.csv']\n",
    "\n",
    "predictions_joined = []\n",
    "lable_joined = []"
   ]
  },
  {
   "cell_type": "code",
   "execution_count": 3,
   "metadata": {
    "collapsed": true
   },
   "outputs": [
    {
     "name": "stdout",
     "output_type": "stream",
     "text": [
      "Doing For:  d1features.csv\n",
      "501 501\n",
      "501 501\n",
      "0 0\n",
      "501 501 \n",
      "\n",
      "\n",
      "\n",
      "Doing For:  d2features.csv\n",
      "999 999\n",
      "999 999\n",
      "501 501\n",
      "1500 1500 \n",
      "\n",
      "\n",
      "\n",
      "Doing For:  d3features.csv\n",
      "906 906\n",
      "906 906\n",
      "1500 1500\n",
      "2406 2406 \n",
      "\n",
      "\n",
      "\n",
      "Doing For:  d4features.csv\n",
      "989 989\n",
      "989 989\n",
      "2406 2406\n",
      "3395 3395 \n",
      "\n",
      "\n",
      "\n",
      "Doing For:  d5features.csv\n",
      "190 190\n",
      "190 190\n",
      "3395 3395\n",
      "3585 3585 \n",
      "\n",
      "\n",
      "\n"
     ]
    }
   ],
   "source": [
    "for train_file, test_file in zip(train_files, test_files):\n",
    "    \n",
    "    print 'Doing For: ',train_file\n",
    "    train_df = pd.read_csv('../../dataset/'+train_file)\n",
    "    train_df.columns  = np.arange(len(list(train_df)))\n",
    "    test_df = pd.read_csv('../../dataset/'+test_file)\n",
    "    test_df.columns  = np.arange(len(list(test_df)))\n",
    "    \n",
    "    test_df = test_df.sort_values(by=[0])\n",
    "    lable = list(test_df[0])\n",
    "    test_df = test_df.drop(0,axis = 1)\n",
    "    print len(lable),len(test_df)\n",
    "    \n",
    "    train_df = shuffle(train_df)\n",
    "    Y = train_df[len(list(train_df))-1]\n",
    "    X = train_df.drop(len(list(train_df))-1,axis = 1)\n",
    "        \n",
    "    clf = LinearSVC()\n",
    "    clf.fit(X,Y)\n",
    "    prediction = list(clf.predict(test_df))\n",
    "    for i in range(0,len(prediction)):\n",
    "        if prediction[i] == 0:\n",
    "            prediction[i] = 1\n",
    "        else:\n",
    "            prediction[i] = 0\n",
    "    print len(prediction),len(lable)\n",
    "    print len(lable_joined),len(predictions_joined)\n",
    "    lable_joined = lable_joined+lable\n",
    "    predictions_joined = predictions_joined + prediction\n",
    "    \n",
    "    print len(lable_joined),len(predictions_joined),'\\n\\n\\n'\n",
    "    \n",
    "    \n",
    "df = pd.DataFrame()\n",
    "df['lable'] = lable_joined\n",
    "df['prediction'] = predictions_joined"
   ]
  },
  {
   "cell_type": "code",
   "execution_count": 4,
   "metadata": {
    "collapsed": true
   },
   "outputs": [],
   "source": [
    "df.columns = ['clip','preictal']"
   ]
  },
  {
   "cell_type": "code",
   "execution_count": 5,
   "metadata": {
    "collapsed": true
   },
   "outputs": [],
   "source": [
    "df.to_csv('submit.csv')"
   ]
  },
  {
   "cell_type": "code",
   "execution_count": null,
   "metadata": {
    "collapsed": true
   },
   "outputs": [],
   "source": []
  }
 ],
 "metadata": {
  "kernelspec": {
   "display_name": "Python 2",
   "language": "python",
   "name": "python2"
  },
  "language_info": {
   "codemirror_mode": {
    "name": "ipython",
    "version": 2
   },
   "file_extension": ".py",
   "mimetype": "text/x-python",
   "name": "python",
   "nbconvert_exporter": "python",
   "pygments_lexer": "ipython2",
   "version": "2.7.13"
  }
 },
 "nbformat": 4,
 "nbformat_minor": 2
}
